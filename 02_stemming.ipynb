{
 "cells": [
  {
   "cell_type": "code",
   "execution_count": 41,
   "id": "e82be296-fae2-4592-b1ee-362dc56a0cdc",
   "metadata": {},
   "outputs": [],
   "source": [
    "#Stemm is a process of reducing word to a stem \n",
    "\n",
    "curpus = \"\"\"The elephant is the world's largest living creature. The elephant is a species that is both intelligent and obedient.\n",
    "The elephant is a four-legged creature with two small eyes, two large ears, a trunk, and a short tail. The elephant's four legs are all thick and big.\"\"\""
   ]
  },
  {
   "cell_type": "code",
   "execution_count": 3,
   "id": "e04456f5-bc1c-43f7-8c94-465e3a5306ef",
   "metadata": {},
   "outputs": [],
   "source": [
    "# Stemming  : The stem need not be identical to the morphological root of the word\n",
    "# Classification problem , positive or negative review \n",
    "# Review -- [go] - [going, gone, go, ]\n",
    "from nltk.stem import *\n",
    "from nltk.stem.porter import *"
   ]
  },
  {
   "cell_type": "code",
   "execution_count": 4,
   "id": "9d4b8bac-6614-48eb-9c04-d2bf7f64c81c",
   "metadata": {},
   "outputs": [],
   "source": [
    "stemmer = PorterStemmer()"
   ]
  },
  {
   "cell_type": "code",
   "execution_count": 5,
   "id": "b73565e6-a602-4e6b-83c6-1ae10bae2609",
   "metadata": {},
   "outputs": [],
   "source": [
    "plurals = ['caresses', 'flies', 'dies', 'mules', 'denied', 'died', 'agreed', 'owned', 'humbled', 'sized',\n",
    " 'meeting', 'stating', 'siezing', 'itemization', 'sensational', 'traditional', 'reference', 'colonizer', 'plotted']"
   ]
  },
  {
   "cell_type": "code",
   "execution_count": 6,
   "id": "d8469792-0912-4385-9667-3ea02976f841",
   "metadata": {},
   "outputs": [],
   "source": [
    "singles = [stemmer.stem(plural) for plural in plurals]"
   ]
  },
  {
   "cell_type": "code",
   "execution_count": 7,
   "id": "09ace97d-aee6-47d4-a6a6-d7d696afd6d3",
   "metadata": {},
   "outputs": [
    {
     "name": "stdout",
     "output_type": "stream",
     "text": [
      "['caress', 'fli', 'die', 'mule', 'deni', 'die', 'agre', 'own', 'humbl', 'size', 'meet', 'state', 'siez', 'item', 'sensat', 'tradit', 'refer', 'colon', 'plot']\n"
     ]
    }
   ],
   "source": [
    "print(singles)"
   ]
  },
  {
   "cell_type": "code",
   "execution_count": 8,
   "id": "be60235e-58b9-4a0d-9d18-7380fabb3e10",
   "metadata": {},
   "outputs": [
    {
     "name": "stdout",
     "output_type": "stream",
     "text": [
      "caress fli die mule deni die agre own humbl size meet state siez item sensat tradit refer colon plot\n"
     ]
    }
   ],
   "source": [
    "print(' '.join(singles))"
   ]
  },
  {
   "cell_type": "code",
   "execution_count": 16,
   "id": "7033a9f9-56fa-4daf-b705-d2d7ac84767b",
   "metadata": {},
   "outputs": [],
   "source": [
    "words = [ \"eat\",\"eats\",\"eaten\",\"eattte\",\"eater\",\"run\",\"running\",\"ran\",\"play\",\"playing\", \"history\",\"hist\"]"
   ]
  },
  {
   "cell_type": "code",
   "execution_count": 33,
   "id": "fa28e34e-17e8-41f8-a1a2-788c602840fc",
   "metadata": {},
   "outputs": [],
   "source": [
    "#PorterStreamer\n",
    "from nltk.stem import PorterStemmer\n",
    "porterStemmer = PorterStemmer()"
   ]
  },
  {
   "cell_type": "code",
   "execution_count": 34,
   "id": "67c83bba-c5f3-4234-b049-ce9d41c17670",
   "metadata": {},
   "outputs": [
    {
     "name": "stdout",
     "output_type": "stream",
     "text": [
      "eat -- eat\n",
      "eats -- eat\n",
      "eaten -- eaten\n",
      "eattte -- eattt\n",
      "eater -- eater\n",
      "run -- run\n",
      "running -- run\n",
      "ran -- ran\n",
      "play -- play\n",
      "playing -- play\n",
      "history -- histori\n",
      "hist -- hist\n"
     ]
    }
   ],
   "source": [
    "for word in words:\n",
    "    print(word + \" -- \"+ porterStemmer.stem(word))"
   ]
  },
  {
   "cell_type": "code",
   "execution_count": 35,
   "id": "5c7334f9-fbbe-4fa7-b2c3-2454a68eba7f",
   "metadata": {},
   "outputs": [
    {
     "data": {
      "text/plain": [
       "'congratul'"
      ]
     },
     "execution_count": 35,
     "metadata": {},
     "output_type": "execute_result"
    }
   ],
   "source": [
    "porterStemmer.stem(\"congratulation\")  # disadvantage changing the meaning"
   ]
  },
  {
   "cell_type": "code",
   "execution_count": 36,
   "id": "3e173d42-b926-4aba-a5f6-98bb03fed664",
   "metadata": {},
   "outputs": [
    {
     "data": {
      "text/plain": [
       "'histori'"
      ]
     },
     "execution_count": 36,
     "metadata": {},
     "output_type": "execute_result"
    }
   ],
   "source": [
    "porterStemmer.stem(\"history\")  # disadvantage changing the meaning, fix via limitaziation "
   ]
  },
  {
   "cell_type": "code",
   "execution_count": 21,
   "id": "4abbc500-7196-49b9-b30f-a0d9d2a805fb",
   "metadata": {},
   "outputs": [],
   "source": [
    "from nltk.stem import RegexpStemmer"
   ]
  },
  {
   "cell_type": "code",
   "execution_count": 22,
   "id": "a2dafa1d-82e0-4e0e-9a85-a3647af43369",
   "metadata": {},
   "outputs": [],
   "source": [
    "st = RegexpStemmer('ing$|s$|e$|able$', min=4)  #"
   ]
  },
  {
   "cell_type": "code",
   "execution_count": 23,
   "id": "b9c1a67e-ae2a-47bf-9479-dadbd61bd0c2",
   "metadata": {},
   "outputs": [
    {
     "data": {
      "text/plain": [
       "'car'"
      ]
     },
     "execution_count": 23,
     "metadata": {},
     "output_type": "execute_result"
    }
   ],
   "source": [
    "st.stem(\"caring\")"
   ]
  },
  {
   "cell_type": "code",
   "execution_count": 24,
   "id": "5a89b90c-50a0-4c67-83e9-d905e92dd3c0",
   "metadata": {},
   "outputs": [],
   "source": [
    "st = RegexpStemmer('ing|s$|e$|able$', min=4)  # able$ remove last char able & no $ -- remove from front and back "
   ]
  },
  {
   "cell_type": "code",
   "execution_count": 25,
   "id": "908e7d21-6778-4b72-b11f-7fd5493c0856",
   "metadata": {},
   "outputs": [
    {
     "data": {
      "text/plain": [
       "'eat'"
      ]
     },
     "execution_count": 25,
     "metadata": {},
     "output_type": "execute_result"
    }
   ],
   "source": [
    "st.stem('ingeating')"
   ]
  },
  {
   "cell_type": "code",
   "execution_count": 26,
   "id": "7680f93c-75bf-4e42-aafc-b977c2be35b8",
   "metadata": {},
   "outputs": [],
   "source": [
    "# Snowball Stemmer\n",
    "from nltk.stem import SnowballStemmer"
   ]
  },
  {
   "cell_type": "code",
   "execution_count": 29,
   "id": "cd48d597-90f7-4579-8e0d-f5bbf2e3a35f",
   "metadata": {},
   "outputs": [],
   "source": [
    "snowballStemmer = SnowballStemmer(\"english\")"
   ]
  },
  {
   "cell_type": "code",
   "execution_count": 30,
   "id": "809ade3d-9c02-4fb7-8071-962bb7033475",
   "metadata": {},
   "outputs": [
    {
     "name": "stdout",
     "output_type": "stream",
     "text": [
      "eat -- eat\n",
      "eats -- eat\n",
      "eaten -- eaten\n",
      "eattte -- eattt\n",
      "eater -- eater\n",
      "run -- run\n",
      "running -- run\n",
      "ran -- ran\n",
      "play -- play\n",
      "playing -- play\n",
      "history -- histori\n",
      "hist -- hist\n"
     ]
    }
   ],
   "source": [
    "for word in words:\n",
    "    print(word + \" -- \"+ snowballStemmer.stem(word))"
   ]
  },
  {
   "cell_type": "code",
   "execution_count": 40,
   "id": "1a9e5c9d-a58c-4540-96c7-b462797b03fb",
   "metadata": {},
   "outputs": [
    {
     "data": {
      "text/plain": [
       "('fair', 'sport', 'wise', 'uncerten', 'goe')"
      ]
     },
     "execution_count": 40,
     "metadata": {},
     "output_type": "execute_result"
    }
   ],
   "source": [
    "## snowballStemmer is beeter as compar with porterStemmer ##\n",
    "## still - goes is having issue - so lamatization came into picture \n",
    "snowballStemmer.stem('fairly'), snowballStemmer.stem('sportly'),snowballStemmer.stem('wisely'), snowballStemmer.stem('uncertenly'),snowballStemmer.stem('goes')"
   ]
  },
  {
   "cell_type": "code",
   "execution_count": 39,
   "id": "b32c95e5-5dbe-44dc-b71d-dc81311bab27",
   "metadata": {},
   "outputs": [
    {
     "data": {
      "text/plain": [
       "('fairli', 'sportli', 'wise', 'uncertenli', 'goe')"
      ]
     },
     "execution_count": 39,
     "metadata": {},
     "output_type": "execute_result"
    }
   ],
   "source": [
    "porterStemmer.stem('fairly'), porterStemmer.stem('sportly'), porterStemmer.stem('wisely'), porterStemmer.stem('uncertenly'),porterStemmer.stem('goes')"
   ]
  },
  {
   "cell_type": "code",
   "execution_count": null,
   "id": "39fa1dd2-8e01-4e00-a1d0-91c3fdfae58d",
   "metadata": {},
   "outputs": [],
   "source": []
  }
 ],
 "metadata": {
  "kernelspec": {
   "display_name": "Python 3 (ipykernel)",
   "language": "python",
   "name": "python3"
  },
  "language_info": {
   "codemirror_mode": {
    "name": "ipython",
    "version": 3
   },
   "file_extension": ".py",
   "mimetype": "text/x-python",
   "name": "python",
   "nbconvert_exporter": "python",
   "pygments_lexer": "ipython3",
   "version": "3.11.7"
  }
 },
 "nbformat": 4,
 "nbformat_minor": 5
}
