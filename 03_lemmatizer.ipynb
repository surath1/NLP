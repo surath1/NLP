{
 "cells": [
  {
   "cell_type": "code",
   "execution_count": 18,
   "id": "c49f4e1d-70f4-4627-b378-68e49fe4a3ce",
   "metadata": {},
   "outputs": [],
   "source": [
    "# lemmatizer is findout a root format of a word \n",
    "# Usecase = Q&A , chatbot, textsummerization etc \n",
    "from nltk.stem import WordNetLemmatizer"
   ]
  },
  {
   "cell_type": "code",
   "execution_count": 3,
   "id": "ad530376-7eaa-4995-aa5b-7572f24aa5ee",
   "metadata": {},
   "outputs": [],
   "source": [
    "wnl = WordNetLemmatizer()"
   ]
  },
  {
   "cell_type": "code",
   "execution_count": 5,
   "id": "0372e640-0f8b-46b3-85fa-f3f4f63bf779",
   "metadata": {},
   "outputs": [
    {
     "name": "stderr",
     "output_type": "stream",
     "text": [
      "[nltk_data] Downloading package wordnet to\n",
      "[nltk_data]     C:\\Users\\duggu\\AppData\\Roaming\\nltk_data...\n"
     ]
    },
    {
     "data": {
      "text/plain": [
       "True"
      ]
     },
     "execution_count": 5,
     "metadata": {},
     "output_type": "execute_result"
    }
   ],
   "source": [
    "import nltk\n",
    "nltk.download('wordnet')"
   ]
  },
  {
   "cell_type": "code",
   "execution_count": 6,
   "id": "a40f327e-3183-4ada-99a6-7ba9104a6b39",
   "metadata": {},
   "outputs": [
    {
     "name": "stdout",
     "output_type": "stream",
     "text": [
      "dog\n"
     ]
    }
   ],
   "source": [
    "print(wnl.lemmatize('dogs'))"
   ]
  },
  {
   "cell_type": "code",
   "execution_count": 7,
   "id": "c84c5223-6587-4576-9bec-43994d1d5c55",
   "metadata": {},
   "outputs": [
    {
     "name": "stdout",
     "output_type": "stream",
     "text": [
      "church\n"
     ]
    }
   ],
   "source": [
    "print(wnl.lemmatize('churches'))"
   ]
  },
  {
   "cell_type": "code",
   "execution_count": 9,
   "id": "f020d551-1d77-49b6-9227-912ce83031a3",
   "metadata": {},
   "outputs": [
    {
     "data": {
      "text/plain": [
       "('fair', 'fairly', 'sportly', 'wisely', 'uncertenly', 'go')"
      ]
     },
     "execution_count": 9,
     "metadata": {},
     "output_type": "execute_result"
    }
   ],
   "source": [
    "wnl.lemmatize('fair'),wnl.lemmatize('fairly'), wnl.lemmatize('sportly'), wnl.lemmatize('wisely'), wnl.lemmatize('uncertenly'), wnl.lemmatize('goes')"
   ]
  },
  {
   "cell_type": "code",
   "execution_count": 11,
   "id": "edf5db6b-5874-4034-b940-ab6739461fe8",
   "metadata": {},
   "outputs": [
    {
     "data": {
      "text/plain": [
       "'doing'"
      ]
     },
     "execution_count": 11,
     "metadata": {},
     "output_type": "execute_result"
    }
   ],
   "source": [
    "wnl.lemmatize('doing')"
   ]
  },
  {
   "cell_type": "code",
   "execution_count": 13,
   "id": "2d6e94e3-84eb-4438-ac38-b904749a80fb",
   "metadata": {},
   "outputs": [
    {
     "data": {
      "text/plain": [
       "'doing'"
      ]
     },
     "execution_count": 13,
     "metadata": {},
     "output_type": "execute_result"
    }
   ],
   "source": [
    "#pos:The Part Of Speech tag. Valid options are `\"n\"` for nouns, `\"v\"` for verbs, `\"a\"` for adjectives, `\"r\"` for adverbs and `\"s\"`for satellite adjectives.\n",
    "wnl.lemmatize('doing', pos='n')"
   ]
  },
  {
   "cell_type": "code",
   "execution_count": 14,
   "id": "ca005eba-eef8-4c5e-8ef8-1145eb8e7019",
   "metadata": {},
   "outputs": [
    {
     "data": {
      "text/plain": [
       "'do'"
      ]
     },
     "execution_count": 14,
     "metadata": {},
     "output_type": "execute_result"
    }
   ],
   "source": [
    "wnl.lemmatize('doing', pos='v')"
   ]
  },
  {
   "cell_type": "code",
   "execution_count": 15,
   "id": "7db5f61a-8642-4cf7-b80f-251335682178",
   "metadata": {},
   "outputs": [],
   "source": [
    "words = [ \"eat\",\"eats\",\"eaten\",\"eattte\",\"eater\",\"run\",\"running\",\"ran\",\"play\",\"playing\", \"history\",\"hist\"]"
   ]
  },
  {
   "cell_type": "code",
   "execution_count": 16,
   "id": "297cd8f5-8121-48f9-8f6f-0a8c9c448e3d",
   "metadata": {},
   "outputs": [
    {
     "name": "stdout",
     "output_type": "stream",
     "text": [
      "eat -- eat\n",
      "eats -- eats\n",
      "eaten -- eaten\n",
      "eattte -- eattte\n",
      "eater -- eater\n",
      "run -- run\n",
      "running -- running\n",
      "ran -- ran\n",
      "play -- play\n",
      "playing -- playing\n",
      "history -- history\n",
      "hist -- hist\n"
     ]
    }
   ],
   "source": [
    "for word in words:\n",
    "    print(word + \" -- \"+ wnl.lemmatize(word))"
   ]
  },
  {
   "cell_type": "code",
   "execution_count": 17,
   "id": "039a42ca-eb2e-4166-9c41-58bb4c75bcf4",
   "metadata": {},
   "outputs": [
    {
     "name": "stdout",
     "output_type": "stream",
     "text": [
      "eat -- eat\n",
      "eats -- eat\n",
      "eaten -- eat\n",
      "eattte -- eattte\n",
      "eater -- eater\n",
      "run -- run\n",
      "running -- run\n",
      "ran -- run\n",
      "play -- play\n",
      "playing -- play\n",
      "history -- history\n",
      "hist -- hist\n"
     ]
    }
   ],
   "source": [
    "for word in words:\n",
    "    print(word + \" -- \"+ wnl.lemmatize(word, pos='v'))"
   ]
  },
  {
   "cell_type": "code",
   "execution_count": null,
   "id": "fd778679-3f9c-42c5-ad34-68ead03a92a3",
   "metadata": {},
   "outputs": [],
   "source": []
  }
 ],
 "metadata": {
  "kernelspec": {
   "display_name": "Python 3 (ipykernel)",
   "language": "python",
   "name": "python3"
  },
  "language_info": {
   "codemirror_mode": {
    "name": "ipython",
    "version": 3
   },
   "file_extension": ".py",
   "mimetype": "text/x-python",
   "name": "python",
   "nbconvert_exporter": "python",
   "pygments_lexer": "ipython3",
   "version": "3.11.5"
  }
 },
 "nbformat": 4,
 "nbformat_minor": 5
}
