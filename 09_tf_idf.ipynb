{
 "cells": [
  {
   "cell_type": "code",
   "execution_count": 3,
   "metadata": {},
   "outputs": [
    {
     "name": "stdout",
     "output_type": "stream",
     "text": [
      "['lephant offer flexible payment plan variety buying option convenient claim filing highly reviewed mobile app elephant strives provide protection convenience']\n"
     ]
    }
   ],
   "source": [
    "import nltk\n",
    "from nltk.stem import WordNetLemmatizer \n",
    "from nltk.corpus import stopwords\n",
    "import re\n",
    "\n",
    "paragraph = \"\"\"lephant offers flexible payment plans, a variety of buying options, \n",
    "convenient claims filing and our highly reviewed mobile app, Elephant strives to provide protection with convenience.\"\"\"\n",
    "\t\n",
    "sentences = nltk.sent_tokenize(paragraph)\n",
    "lemmatizer = WordNetLemmatizer()\n",
    "\t\n",
    "corpus = []\n",
    "\t\n",
    "for i in range(len(sentences)):\n",
    "    sent = re.sub('[^a-zA-Z]', ' ', sentences[i])\n",
    "    sent = sent.lower()\n",
    "    sent= sent.split()\n",
    "    sent = [lemmatizer.lemmatize(word) for word in sent if not word in set(stopwords.words('english'))]\n",
    "    sent = ' '.join(sent)   \n",
    "    corpus.append(sent)\n",
    "\n",
    "\n",
    "print(corpus)"
   ]
  },
  {
   "cell_type": "code",
   "execution_count": 4,
   "metadata": {},
   "outputs": [
    {
     "name": "stdout",
     "output_type": "stream",
     "text": [
      "['lephant offer flexible payment plan variety buying option convenient claim filing highly reviewed mobile app elephant strives provide protection convenience']\n"
     ]
    }
   ],
   "source": [
    "print(corpus)"
   ]
  },
  {
   "cell_type": "code",
   "execution_count": 2,
   "metadata": {},
   "outputs": [],
   "source": [
    "# Creating the TF-IDF model\n",
    "from sklearn.feature_extraction.text import TfidfVectorizer\n",
    "tfidf = TfidfVectorizer()"
   ]
  },
  {
   "cell_type": "code",
   "execution_count": 7,
   "metadata": {},
   "outputs": [],
   "source": [
    "independentf_tfIDF = tfidf.fit_transform(corpus).toarray()"
   ]
  },
  {
   "cell_type": "code",
   "execution_count": 8,
   "metadata": {},
   "outputs": [
    {
     "name": "stdout",
     "output_type": "stream",
     "text": [
      "[[0.2236068 0.2236068 0.2236068 0.2236068 0.2236068 0.2236068 0.2236068\n",
      "  0.2236068 0.2236068 0.2236068 0.2236068 0.2236068 0.2236068 0.2236068\n",
      "  0.2236068 0.2236068 0.2236068 0.2236068 0.2236068 0.2236068]]\n"
     ]
    }
   ],
   "source": [
    "print(independentf_tfIDF)"
   ]
  },
  {
   "cell_type": "code",
   "execution_count": 10,
   "metadata": {},
   "outputs": [
    {
     "name": "stdout",
     "output_type": "stream",
     "text": [
      "['good' 'is' 'love' 'lyric' 'music' 'ohh' 'super']\n",
      "[[0.         0.         0.70710678 0.         0.70710678 0.\n",
      "  0.        ]\n",
      " [0.57735027 0.57735027 0.         0.57735027 0.         0.\n",
      "  0.        ]\n",
      " [0.         0.         0.         0.         0.         0.70710678\n",
      "  0.70710678]]\n"
     ]
    }
   ],
   "source": [
    "#Example\n",
    "from sklearn.feature_extraction.text import TfidfVectorizer\n",
    "\n",
    "corpus = [\"I love music\",\n",
    "          \"lyric is good\",\n",
    "          \"Ohh super\"]\n",
    "# TF-IDF\n",
    "vectorizer = TfidfVectorizer()\n",
    "tfidf_encoded = vectorizer.fit_transform(corpus)\n",
    "\n",
    "# Print feature names and TF-IDF vectors\n",
    "print(vectorizer.get_feature_names_out())\n",
    "print(tfidf_encoded.toarray())\n"
   ]
  },
  {
   "cell_type": "code",
   "execution_count": null,
   "metadata": {},
   "outputs": [],
   "source": []
  }
 ],
 "metadata": {
  "kernelspec": {
   "display_name": "Python 3",
   "language": "python",
   "name": "python3"
  },
  "language_info": {
   "codemirror_mode": {
    "name": "ipython",
    "version": 3
   },
   "file_extension": ".py",
   "mimetype": "text/x-python",
   "name": "python",
   "nbconvert_exporter": "python",
   "pygments_lexer": "ipython3",
   "version": "3.11.5"
  }
 },
 "nbformat": 4,
 "nbformat_minor": 2
}
